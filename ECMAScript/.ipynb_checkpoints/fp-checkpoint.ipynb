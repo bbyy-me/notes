{
 "cells": [
  {
   "cell_type": "markdown",
   "metadata": {},
   "source": [
    "# 函数式编程\n",
    "\n",
    "克里化\n",
    "\n",
    "高阶函数\n",
    "* 接受一个或多个函数作为输入\n",
    "* 输出一个函数\n",
    "\n",
    "集合中心编程\n",
    "> 用100个函数操作一个数据结构，比用10个函数操作10个数据结构要好。————Alan Perlis\n",
    "\n",
    "Applicative函数：定义一个函数，参数包含函数、并调用传入的函数。\n",
    "\n",
    "关键点：用较低级别的函数来逐步定义和使用离散功能。\n",
    "一串函数链一个接一个地调用，每个函数将逐渐转变的结果传到后一个函数，最后得到解决方案。\n"
   ]
  },
  {
   "cell_type": "code",
   "execution_count": 4,
   "metadata": {},
   "outputs": [
    {
     "name": "stdout",
     "output_type": "stream",
     "text": [
      "true\n",
      "false\n",
      "true\n"
     ]
    }
   ],
   "source": [
    "function allOf() {\n",
    "    return Array.prototype.reduceRight.call(arguments, function(truth, f) {\n",
    "        return truth && f();\n",
    "    },true);\n",
    "}\n",
    "function anyOf() {\n",
    "    return Array.prototype.reduceRight.call(arguments, function(truth, f) {\n",
    "        return truth || f();\n",
    "    },false)\n",
    "}\n",
    "\n",
    "function T() {return true;}\n",
    "function F() {return false;}\n",
    "\n",
    "console.log(allOf());\n",
    "console.log(allOf(T, T,T,F));\n",
    "console.log(anyOf(T, T,T,F));"
   ]
  },
  {
   "cell_type": "code",
   "execution_count": 9,
   "metadata": {},
   "outputs": [
    {
     "data": {
      "text/plain": [
       "[ 1, ',', 2, ',', 3, ',', 4, ',' ]"
      ]
     },
     "execution_count": 9,
     "metadata": {},
     "output_type": "execute_result"
    }
   ],
   "source": [
    "function mapcat(fn, collection) {\n",
    "    return Array.prototype.concat.apply([], Array.prototype.map.call(collection, fn));\n",
    "}\n",
    "\n",
    "mapcat(item => [item, ','], [1,2,3,4])"
   ]
  },
  {
   "cell_type": "markdown",
   "metadata": {},
   "source": [
    "## 数据思考\n",
    "SQL 表结构"
   ]
  },
  {
   "cell_type": "code",
   "execution_count": 20,
   "metadata": {},
   "outputs": [
    {
     "name": "stdout",
     "output_type": "stream",
     "text": [
      "[ { title: 'JavaScript', isbn: '131231231' },\n",
      "  { title: 'JavaScript', isbn: '131231232' },\n",
      "  { title: 'Python', isbn: '1313991231' },\n",
      "  { title: 'Java', isbn: '131231' } ]\n"
     ]
    }
   ],
   "source": [
    "var library = [\n",
    "    {title: 'JavaScript', isbn: '131231231', ed: 1},\n",
    "    {title: 'JavaScript', isbn: '131231232', ed: 2},\n",
    "    {title: 'Python', isbn: '1313991231', ed: 1},\n",
    "    {title: 'Java', isbn: '131231', ed: 6},\n",
    "]\n",
    "\n",
    "function pluck(obj, key) {return obj.map(item => item[key])}\n",
    "function map(obj, fn) {return Array.prototype.map.call(obj, fn);}\n",
    "function pick(obj, keys) {let result = {}; keys.forEach(key=> {result[key] = obj[key];}); return result;}\n",
    "function construct(head, tail) {return [head].concat(tail);}\n",
    "\n",
    "function project(table, keys) {\n",
    "    return map(table, function(obj) {\n",
    "       return pick.call(null, obj, keys); \n",
    "    });\n",
    "}\n",
    "\n",
    "console.log(project(library, ['title', 'isbn']));"
   ]
  },
  {
   "cell_type": "code",
   "execution_count": null,
   "metadata": {},
   "outputs": [],
   "source": []
  }
 ],
 "metadata": {
  "kernelspec": {
   "display_name": "Javascript (Node.js)",
   "language": "javascript",
   "name": "javascript"
  },
  "language_info": {
   "file_extension": ".js",
   "mimetype": "application/javascript",
   "name": "javascript",
   "version": "8.11.1"
  }
 },
 "nbformat": 4,
 "nbformat_minor": 2
}
