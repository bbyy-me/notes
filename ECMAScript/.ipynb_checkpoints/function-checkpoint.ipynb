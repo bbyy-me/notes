{
 "cells": [
  {
   "cell_type": "markdown",
   "metadata": {},
   "source": [
    "# function\n",
    "\n",
    "函数声明\n",
    "函数表达式\n",
    "\n",
    "函数调用方式：\n",
    "* 作为函数\n",
    "* 作为方法\n",
    "* 作为构造函数\n",
    "* call, apply\n",
    "\n",
    "关键字this:\n",
    "对应上面四种调用方法，this有4种指向：\n",
    "* 关键字this没有作用域的限制，嵌套的函数不会从调用它的函数中继承this。如果嵌套函数作为方法调用，其this的值指向调用它的对象。如果嵌套函数作为函数调用，其this值不是全局对象（非严格模式下）就是undefined（严格模式下）\n",
    "* 作为方法指向他的主体\n",
    "* 构造函数中 this指向新的实例\n",
    "* call,apply指向第一个参数\n",
    "\n",
    "\n",
    "形参、实参\n",
    "\n",
    "默认参数\n",
    "实参对象arguments"
   ]
  },
  {
   "cell_type": "code",
   "execution_count": 1,
   "metadata": {},
   "outputs": [
    {
     "name": "stdout",
     "output_type": "stream",
     "text": [
      "{ b: 2 }\n",
      "{ b: 2 }\n",
      "{ c: 3 }\n",
      "{ c: 3 }\n"
     ]
    }
   ],
   "source": [
    "function fn(x) {\n",
    "    arguments[0] = {b:2};\n",
    "    console.log(arguments[0]);\n",
    "    console.log(x);\n",
    "    x = {c: 3};\n",
    "    console.log(arguments[0]);\n",
    "    console.log(x);\n",
    "}\n",
    "let o = {a: 1};\n",
    "fn(o);"
   ]
  },
  {
   "cell_type": "code",
   "execution_count": 2,
   "metadata": {},
   "outputs": [
    {
     "name": "stdout",
     "output_type": "stream",
     "text": [
      "{ b: 2 }\n",
      "{ a: 1 }\n",
      "{ b: 2 }\n",
      "{ c: 3 }\n"
     ]
    }
   ],
   "source": [
    "'use strict';\n",
    "function fn(x) {\n",
    "    arguments[0] = {b:2};\n",
    "    console.log(arguments[0]);\n",
    "    console.log(x);\n",
    "    x = {c: 3};\n",
    "    console.log(arguments[0]);\n",
    "    console.log(x);\n",
    "}\n",
    "let o2 = {a: 1};\n",
    "fn(o2);"
   ]
  },
  {
   "cell_type": "markdown",
   "metadata": {},
   "source": [
    "非严格模式时，call,apply的第一个参数如果为undefined或null，将会被全局对象所替代，"
   ]
  },
  {
   "cell_type": "code",
   "execution_count": 3,
   "metadata": {},
   "outputs": [
    {
     "name": "stdout",
     "output_type": "stream",
     "text": [
      "true\n"
     ]
    }
   ],
   "source": [
    "function fn () {console.log(this === global)}\n",
    "fn.call(undefined);"
   ]
  },
  {
   "cell_type": "code",
   "execution_count": 4,
   "metadata": {},
   "outputs": [
    {
     "name": "stdout",
     "output_type": "stream",
     "text": [
      "false\n"
     ]
    }
   ],
   "source": [
    "'use strict';\n",
    "function fn () {console.log(this === global)}\n",
    "fn.call(undefined);"
   ]
  },
  {
   "cell_type": "code",
   "execution_count": 5,
   "metadata": {},
   "outputs": [
    {
     "name": "stdout",
     "output_type": "stream",
     "text": [
      "true\n"
     ]
    }
   ],
   "source": [
    "function fn () {console.log(this === global)}\n",
    "'use strict';\n",
    "fn.call(undefined);"
   ]
  },
  {
   "cell_type": "markdown",
   "metadata": {},
   "source": [
    "## bind\n",
    "基础应用，绑定上下文对象，很容易实现：\n",
    "fn.bind = function(o) {\n",
    "  return function() {\n",
    "    return fn.apply(o, arguments);\n",
    "  }\n",
    "};\n",
    "\n",
    "附带其他应用：除了第一个 实参以外，传入bind的实参，也会绑定到this，克里化currying："
   ]
  },
  {
   "cell_type": "code",
   "execution_count": 6,
   "metadata": {},
   "outputs": [
    {
     "name": "stdout",
     "output_type": "stream",
     "text": [
      "3\n"
     ]
    }
   ],
   "source": [
    "//用法\n",
    "let sum = function(x, y) {return x + y;}\n",
    "let succ = sum.bind(null, 1);\n",
    "console.log(succ(2));\n",
    "\n",
    "\n",
    "function f(y, z) {return this.x + y + z;}\n",
    "let g = f.bind({x: 1}, 2);\n",
    "console.log(g(3));"
   ]
  },
  {
   "cell_type": "code",
   "execution_count": null,
   "metadata": {},
   "outputs": [],
   "source": [
    "// 如何实现\n",
    "Function.prototype.bind2 = function(o) {\n",
    "    const self = this;\n",
    "    const args = Array.prototype.slice.call(arguments, 1);\n",
    "    return function () {\n",
    "        Array.prototype.push.apply(args, arguments);\n",
    "        return self.apply(o, args);\n",
    "    }\n",
    "}\n"
   ]
  }
 ],
 "metadata": {
  "kernelspec": {
   "display_name": "Javascript (Node.js)",
   "language": "javascript",
   "name": "javascript"
  },
  "language_info": {
   "file_extension": ".js",
   "mimetype": "application/javascript",
   "name": "javascript",
   "version": "8.11.1"
  }
 },
 "nbformat": 4,
 "nbformat_minor": 2
}
