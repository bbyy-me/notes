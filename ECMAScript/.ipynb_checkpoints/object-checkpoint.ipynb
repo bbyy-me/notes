{
 "cells": [
  {
   "cell_type": "markdown",
   "metadata": {},
   "source": [
    "# 对象\n",
    "由键值对组成。健是字符串，值可以是任意的值或者getter orand setter函数。\n",
    "\n",
    "\n",
    "对象分为三类：内置对象、宿主对象、自定义对象\n",
    "\n",
    "创建对象\n",
    "* 字面量\n",
    "* 关键字new\n",
    "* 函数Object.create\n",
    "  * 接受两个参数\n",
    "  * 返回一个对象、对象的原型是第一个参数\n",
    "  * 第一个是原型，一个对象或null\n",
    "  * 第二个\n",
    "\n"
   ]
  },
  {
   "cell_type": "code",
   "execution_count": 1,
   "metadata": {},
   "outputs": [
    {
     "name": "stdout",
     "output_type": "stream",
     "text": [
      "1\n",
      "5\n",
      "5\n",
      "5\n",
      "undefined\n"
     ]
    }
   ],
   "source": [
    "const obj = {\n",
    "    a: 1,\n",
    "    get b () {\n",
    "        return this.a;\n",
    "    },\n",
    "    set b (value) {\n",
    "        this.a = value;\n",
    "    },\n",
    "    get c () {\n",
    "        return this.b;\n",
    "    },\n",
    "    set d (value) {\n",
    "        this.b = value;\n",
    "    }\n",
    "}\n",
    "console.log(obj.b);\n",
    "obj.b = 5;\n",
    "console.log(obj.a);\n",
    "\n",
    "console.log(obj.c);\n",
    "obj.c = 10;\n",
    "console.log(obj.c);\n",
    "\n",
    "console.log(obj.d);"
   ]
  },
  {
   "cell_type": "markdown",
   "metadata": {},
   "source": [
    "对象键值对的特性：\n",
    "* 值value\n",
    "* 可写writable\n",
    "* 可枚举enumerable\n",
    "* 可配置configurable\n",
    "\n",
    "存取器属性不具有value和writable，可写性是通过setter方法控制的。\n",
    "\n",
    "Property Descriptor\n",
    "\n",
    "规则：\n",
    "* 如果对象是不可扩展的，则可以编辑已有的自有属性，但不能给它添加新属性。\n",
    "* 如果属性是不可配置的，则不能修改它的可配置性和可枚举性。\n",
    "* 如果存取器属性是不可配置的，则不能修改其getter和setter方法，也不能将它转换为数据属性。\n",
    "* 如果数据属性是不可配置的，则不能将它转换为存取器属性。\n",
    "* 如果数据属性是不可配置的，则不能将它的可写性从false修改为true，但可以从true修改为false。\n",
    "* 如果数据属性是不可配置且不可写的，则不能修改它的值。然而可配置但不可写属性的值是可以修改的（实际上是先将它标记为可写的，然后修改它的值，最后转换为不可写的）。"
   ]
  },
  {
   "cell_type": "code",
   "execution_count": 2,
   "metadata": {},
   "outputs": [
    {
     "data": {
      "text/plain": [
       "{ value: 1, writable: true, enumerable: true, configurable: true }"
      ]
     },
     "execution_count": 2,
     "metadata": {},
     "output_type": "execute_result"
    }
   ],
   "source": [
    "Object.getOwnPropertyDescriptor({x: 1}, 'x')"
   ]
  },
  {
   "cell_type": "code",
   "execution_count": 3,
   "metadata": {},
   "outputs": [
    {
     "data": {
      "text/plain": [
       "{ get: [Function: get c],\n",
       "  set: undefined,\n",
       "  enumerable: true,\n",
       "  configurable: true }"
      ]
     },
     "execution_count": 3,
     "metadata": {},
     "output_type": "execute_result"
    }
   ],
   "source": [
    "Object.getOwnPropertyDescriptor(obj, 'c');"
   ]
  },
  {
   "cell_type": "code",
   "execution_count": 4,
   "metadata": {},
   "outputs": [
    {
     "name": "stdout",
     "output_type": "stream",
     "text": [
      "undefined\n"
     ]
    }
   ],
   "source": [
    "console.log(Object.getOwnPropertyDescriptor(obj, 'toString'));"
   ]
  },
  {
   "cell_type": "code",
   "execution_count": 5,
   "metadata": {},
   "outputs": [
    {
     "name": "stdout",
     "output_type": "stream",
     "text": [
      "20\n",
      "20\n"
     ]
    }
   ],
   "source": [
    "Object.defineProperty(obj, 'e', { writeable: false, value: 20});\n",
    "console.log(obj.e);\n",
    "obj.e = 10; // 严格模式会报错\n",
    "console.log(obj.e);"
   ]
  },
  {
   "cell_type": "code",
   "execution_count": 6,
   "metadata": {},
   "outputs": [
    {
     "name": "stdout",
     "output_type": "stream",
     "text": [
      "{ value: 20,\n",
      "  writable: false,\n",
      "  enumerable: false,\n",
      "  configurable: false }\n",
      "20\n"
     ]
    },
    {
     "ename": "TypeError",
     "evalue": "Cannot redefine property: f",
     "output_type": "error",
     "traceback": [
      "evalmachine.<anonymous>:6",
      "Object.defineProperty(obj, 'f', { configurable: true});",
      "       ^",
      "",
      "TypeError: Cannot redefine property: f",
      "    at Function.defineProperty (<anonymous>)",
      "    at evalmachine.<anonymous>:6:8",
      "    at ContextifyScript.Script.runInThisContext (vm.js:50:33)",
      "    at Object.runInThisContext (vm.js:139:38)",
      "    at run ([eval]:1002:15)",
      "    at onRunRequest ([eval]:829:18)",
      "    at onMessage ([eval]:789:13)",
      "    at emitTwo (events.js:126:13)",
      "    at process.emit (events.js:214:7)",
      "    at emit (internal/child_process.js:772:12)"
     ]
    }
   ],
   "source": [
    "Object.defineProperty(obj, 'f', { configurable: false, value: 20 });\n",
    "console.log(Object.getOwnPropertyDescriptor(obj, 'f'));\n",
    "obj.f = 5;\n",
    "console.log(obj.f);\n",
    "\n",
    "Object.defineProperty(obj, 'f', { configurable: true});\n",
    "console.log(Object.getOwnPropertyDescriptor(obj, 'f')); // failure\n"
   ]
  },
  {
   "cell_type": "code",
   "execution_count": null,
   "metadata": {},
   "outputs": [],
   "source": [
    "Object.defineProperties(obj, {\n",
    "    h: {value: 4, },\n",
    "    i: {writable: false, value: 1}\n",
    "})"
   ]
  },
  {
   "cell_type": "code",
   "execution_count": 8,
   "metadata": {},
   "outputs": [
    {
     "data": {
      "text/plain": [
       "{ a: { value: 5, writable: true, enumerable: true, configurable: true },\n",
       "  b: \n",
       "   { get: [Function: get b],\n",
       "     set: [Function: set b],\n",
       "     enumerable: true,\n",
       "     configurable: true },\n",
       "  c: \n",
       "   { get: [Function: get c],\n",
       "     set: undefined,\n",
       "     enumerable: true,\n",
       "     configurable: true },\n",
       "  d: \n",
       "   { get: undefined,\n",
       "     set: [Function: set d],\n",
       "     enumerable: true,\n",
       "     configurable: true },\n",
       "  e: \n",
       "   { value: 20,\n",
       "     writable: false,\n",
       "     enumerable: false,\n",
       "     configurable: false },\n",
       "  f: \n",
       "   { value: 20,\n",
       "     writable: false,\n",
       "     enumerable: false,\n",
       "     configurable: false },\n",
       "  h: \n",
       "   { value: 4,\n",
       "     writable: false,\n",
       "     enumerable: false,\n",
       "     configurable: false },\n",
       "  i: \n",
       "   { value: 1,\n",
       "     writable: false,\n",
       "     enumerable: false,\n",
       "     configurable: false } }"
      ]
     },
     "execution_count": 8,
     "metadata": {},
     "output_type": "execute_result"
    }
   ],
   "source": [
    "Object.getOwnPropertyDescriptors(obj);"
   ]
  },
  {
   "cell_type": "markdown",
   "metadata": {},
   "source": [
    "## 对象的属性\n",
    "\n",
    "* 原型 prototype\n",
    "* 类 class\n",
    "* 扩展性 extensible\n"
   ]
  },
  {
   "cell_type": "code",
   "execution_count": 9,
   "metadata": {},
   "outputs": [
    {
     "data": {
      "text/plain": [
       "true"
      ]
     },
     "execution_count": 9,
     "metadata": {},
     "output_type": "execute_result"
    }
   ],
   "source": [
    "Object.prototype.isPrototypeOf(obj); //true\n",
    "Object.getPrototypeOf(obj) === Object.prototype; //true"
   ]
  },
  {
   "cell_type": "code",
   "execution_count": null,
   "metadata": {},
   "outputs": [],
   "source": [
    "function classof(o) {\n",
    "    return Object.prototype.toString.call(o).slice(8, -1);\n",
    "}"
   ]
  },
  {
   "cell_type": "code",
   "execution_count": null,
   "metadata": {},
   "outputs": [],
   "source": [
    "console.log(Object.isExtensible(obj));\n",
    "Object.preventExtensions(obj); \n",
    "\n",
    "Object.seal\n",
    "Object.isSealed\n",
    "\n",
    "Object.freeze\n",
    "Object.isFrozen"
   ]
  },
  {
   "cell_type": "markdown",
   "metadata": {},
   "source": [
    "## 对象的序列化\n",
    "* JSON.stringify\n",
    "* JSON.parse\n",
    "\n",
    "## 对象原型的内置方法\n",
    "* Object.prototype.constructor\n",
    "* Object.prototype.hasOwnProperty\n",
    "* Object.prototype.isPrototypeOf\n",
    "* Object.prototype.propertyIsEnumerable\n",
    "* Object.prototype.toLocaleString\n",
    "* Object.prototype.toString\n",
    "* Object.prototype.valueOf\n",
    "\n",
    "## Object的静态方法\n",
    "\n",
    "### 对象属性\n",
    "* Object.getOwnPropertyDescriptor\n",
    "* Object.getOwnPropertyDescriptors\n",
    "* Object.getOwnPropertyNames\n",
    "* Object.getOwnPropertySymbols\n",
    "* Object.defineProperties\n",
    "* Object.defineProperty\n",
    "* Object.assign\n",
    "\n",
    "### 对象可扩展性\n",
    "* Object.isExtensible\n",
    "* Object.isFrozen\n",
    "* Object.isSealed\n",
    "* Object.seal\n",
    "* Object.freeze\n",
    "* Object.preventExtensions\n",
    "\n",
    "### 对象原型\n",
    "* Object.getPrototypeOf\n",
    "* Object.setPrototypeOf\n",
    "* Object.create\n",
    "\n",
    "### 对象遍历\n",
    "* Object.entries\n",
    "* Object.keys\n",
    "* Object.values\n",
    "\n",
    "### 其他\n",
    "* Object.is"
   ]
  },
  {
   "cell_type": "code",
   "execution_count": null,
   "metadata": {},
   "outputs": [],
   "source": []
  }
 ],
 "metadata": {
  "kernelspec": {
   "display_name": "Javascript (Node.js)",
   "language": "javascript",
   "name": "javascript"
  },
  "language_info": {
   "file_extension": ".js",
   "mimetype": "application/javascript",
   "name": "javascript",
   "version": "8.11.1"
  }
 },
 "nbformat": 4,
 "nbformat_minor": 2
}
