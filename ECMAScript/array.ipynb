{
 "cells": [
  {
   "cell_type": "markdown",
   "metadata": {},
   "source": [
    "# 数组\n",
    "* 有序集合\n",
    "* 索引 0~2^32-2，最多2^32-1个元素\n",
    "* 元素是任意类型的值\n",
    "* \n"
   ]
  },
  {
   "cell_type": "markdown",
   "metadata": {},
   "source": [
    "## 数组的创建\n",
    "* 字面量 let a = [1,4,]; // 结尾的逗号可选\n",
    "* new Array()\n",
    "    * 1.无参数\n",
    "    * 2.一个参数、而且是数字，就会创建一个长度是那个值的数组。这时，数组中没有值，甚至还没有索引。\n",
    "    * 3.一个非数字参数或多个参数，创建一个元素依次为参数的数组\n",
    "\n",
    "对象的属性与数组的索引"
   ]
  },
  {
   "cell_type": "code",
   "execution_count": 1,
   "metadata": {},
   "outputs": [
    {
     "name": "stdout",
     "output_type": "stream",
     "text": [
      "2\n"
     ]
    }
   ],
   "source": [
    "let arr1 = [,,];\n",
    "console.log(arr.length); //2"
   ]
  },
  {
   "cell_type": "markdown",
   "metadata": {},
   "source": [
    "## 稀松数组\n",
    "\n",
    "数组的length一定比最大索引值大1。稀松数组，length值大于数组元素的个数。\n",
    "\n",
    "delete arr[1] 与 arr[1] = undefined"
   ]
  },
  {
   "cell_type": "code",
   "execution_count": null,
   "metadata": {},
   "outputs": [],
   "source": []
  },
  {
   "cell_type": "markdown",
   "metadata": {},
   "source": [
    "## Array的静态方法\n",
    "* Array.from\n",
    "* Array.isArray\n",
    "* Array.of\n",
    "\n",
    "## Array原型的方法\n",
    "\n",
    "### 遍历数组（都不改变自身）\n",
    "\n",
    "* entries\n",
    "* every\n",
    "* forEach\n",
    "* filter\n",
    "* find\n",
    "* findIndex\n",
    "* includes  传入一个值，看这个值是否在数组中，返回true或false\n",
    "* indexOf  传入一个值\n",
    "* lastIndexOf\n",
    "* some\n",
    "* join\n",
    "\n",
    "### 改变原数组的操作\n",
    "* pop 返回pop出来的值或undefined\n",
    "* push 返回数组长度\n",
    "* unshift 返回数组长度\n",
    "* shift 返回shift出来的值\n",
    "* sort 排序，返回自己\n",
    "* reverse 反转，返回自己\n",
    "* fill 填充所有元素，返回自己\n",
    "* copyWithin (a,b,c) 用b到c的元素覆盖从a开始之后的元素，返回自己\n",
    "* splice(index, count, ...items) 从Index位置删除count个元素后，插入...items，返回删除的元素组成的数组。count如果为0或负值，则不删除元素。如果只有一个参数，则从索引开始删掉结束。\n",
    "\n",
    "### 不改变自身\n",
    "\n",
    "* concat 生成新数组\n",
    "* map  生成新数组\n",
    "* reduce  返回技术结果\n",
    "* reduceRight\n",
    "* slice (start, end) 返回从start到end的元素组成的新数组\n",
    "\n",
    "\n",
    "### 其他\n",
    "* keys 返回一个迭代器\n",
    "* values\n",
    "* Array.prototype.length\n",
    "\n"
   ]
  }
 ],
 "metadata": {
  "kernelspec": {
   "display_name": "Javascript (Node.js)",
   "language": "javascript",
   "name": "javascript"
  },
  "language_info": {
   "file_extension": ".js",
   "mimetype": "application/javascript",
   "name": "javascript",
   "version": "8.11.1"
  }
 },
 "nbformat": 4,
 "nbformat_minor": 2
}
