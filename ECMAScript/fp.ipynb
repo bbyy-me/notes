{
 "cells": [
  {
   "cell_type": "markdown",
   "metadata": {},
   "source": [
    "# 函数式编程\n",
    "\n",
    "JavaScript“一等函数”\n",
    "* 可以存储在变量中\n",
    "* 可以存储在数组的元素中\n",
    "* 可以存储在对象的字段中\n",
    "* 可以根据需要来创建\n",
    "* 可以被传递到其他函数中\n",
    "* 可以被其他函数返回\n",
    "\n",
    "高阶函数\n",
    "* 接受一个或多个函数作为输入\n",
    "* 输出一个函数\n",
    "\n",
    "集合中心编程\n",
    "> 用100个函数操作一个数据结构，比用10个函数操作10个数据结构要好。————Alan Perlis\n",
    "\n",
    "Applicative函数：定义一个函数，参数包含函数、并调用传入的函数。\n",
    "\n",
    "关键点：用较低级别的函数来逐步定义和使用离散功能。\n",
    "一串函数链一个接一个地调用，每个函数将逐渐转变的结果传到后一个函数，最后得到解决方案。\n"
   ]
  },
  {
   "cell_type": "code",
   "execution_count": 4,
   "metadata": {},
   "outputs": [
    {
     "name": "stdout",
     "output_type": "stream",
     "text": [
      "true\n",
      "false\n",
      "true\n"
     ]
    }
   ],
   "source": [
    "function allOf() {\n",
    "    return Array.prototype.reduceRight.call(arguments, function(truth, f) {\n",
    "        return truth && f();\n",
    "    },true);\n",
    "}\n",
    "function anyOf() {\n",
    "    return Array.prototype.reduceRight.call(arguments, function(truth, f) {\n",
    "        return truth || f();\n",
    "    },false)\n",
    "}\n",
    "\n",
    "function T() {return true;}\n",
    "function F() {return false;}\n",
    "\n",
    "console.log(allOf());\n",
    "console.log(allOf(T, T,T,F));\n",
    "console.log(anyOf(T, T,T,F));"
   ]
  },
  {
   "cell_type": "code",
   "execution_count": 9,
   "metadata": {},
   "outputs": [
    {
     "data": {
      "text/plain": [
       "[ 1, ',', 2, ',', 3, ',', 4, ',' ]"
      ]
     },
     "execution_count": 9,
     "metadata": {},
     "output_type": "execute_result"
    }
   ],
   "source": [
    "function mapcat(fn, collection) {\n",
    "    return Array.prototype.concat.apply([], Array.prototype.map.call(collection, fn));\n",
    "}\n",
    "\n",
    "mapcat(item => [item, ','], [1,2,3,4])"
   ]
  },
  {
   "cell_type": "markdown",
   "metadata": {},
   "source": [
    "## 数据思考\n",
    "深入思考应用的数据，以及每一层交接的格式。\n",
    "SQL 表结构"
   ]
  },
  {
   "cell_type": "code",
   "execution_count": 22,
   "metadata": {},
   "outputs": [
    {
     "name": "stdout",
     "output_type": "stream",
     "text": [
      "[ { title: 'JavaScript', isbn: '131231231' },\n",
      "  { title: 'JavaScript', isbn: '131231232' },\n",
      "  { title: 'Python', isbn: '1313991231' },\n",
      "  { title: 'Java', isbn: '131231' } ]\n",
      "[ '131231231', '131231232', '1313991231', '131231' ]\n"
     ]
    }
   ],
   "source": [
    "var library = [\n",
    "    {title: 'JavaScript', isbn: '131231231', ed: 1},\n",
    "    {title: 'JavaScript', isbn: '131231232', ed: 2},\n",
    "    {title: 'Python', isbn: '1313991231', ed: 1},\n",
    "    {title: 'Java', isbn: '131231', ed: 6},\n",
    "]\n",
    "\n",
    "function pluck(obj, key) {return obj.map(item => item[key])}\n",
    "function map(obj, fn) {return Array.prototype.map.call(obj, fn);}\n",
    "function pick(obj, keys) {let result = {}; keys.forEach(key=> {result[key] = obj[key];}); return result;}\n",
    "function omit(obj, keys) {let result = {}; Object.keys(obj).forEach(key => {if(keys.indexOf(key)===-1){result[key] = obj[key];}}); return result}\n",
    "function construct(head, tail) {return [head].concat(tail);}\n",
    "\n",
    "function project(table, keys) {\n",
    "    return map(table, function(obj) {\n",
    "       return pick.call(null, obj, keys); \n",
    "    });\n",
    "}\n",
    "\n",
    "console.log(project(library, ['title', 'isbn']));\n",
    "console.log(pluck(project(library, ['title', 'isbn']), 'isbn'));"
   ]
  },
  {
   "cell_type": "code",
   "execution_count": 26,
   "metadata": {},
   "outputs": [
    {
     "name": "stdout",
     "output_type": "stream",
     "text": [
      "[ { title: 'JavaScript', isbn: '131231231', edition: 1 },\n",
      "  { title: 'JavaScript', isbn: '131231232', edition: 2 },\n",
      "  { title: 'Python', isbn: '1313991231', edition: 1 },\n",
      "  { title: 'Java', isbn: '131231', edition: 6 } ]\n"
     ]
    }
   ],
   "source": [
    "// SQL 的as功能 SELECT ed AS edition FROM library.\n",
    "function rename (item, names) {\n",
    "    let result = omit(item, Object.keys(names));\n",
    "    Object.keys(names).forEach(key => {\n",
    "        result[names[key]] = item[key];\n",
    "    })\n",
    "    return result;\n",
    "}\n",
    "function as (table, names) {\n",
    "    return table.map(item => rename(item, names));\n",
    "}\n",
    "console.log(as(library, {ed: 'edition'}));"
   ]
  },
  {
   "cell_type": "markdown",
   "metadata": {},
   "source": [
    "## 柯里化 currying\n",
    "> 柯里化 currying是把接受多个参数的函数变换成接受一个单一参数（最初函数的第一个参数）的函数，并且返回接受余下的参数而且返回结果的新函数的技术。这个技术由克里斯托弗·斯特雷奇以逻辑学家哈斯凯尔·加里命名的，尽管它是Moses Schönfinkel和戈特洛布·弗雷格发明的。\n",
    "\n",
    "### 向左柯里化、还是向右柯里化\n"
   ]
  },
  {
   "cell_type": "code",
   "execution_count": null,
   "metadata": {},
   "outputs": [],
   "source": [
    "function div (n, d) {\n",
    "    return n/d;\n",
    "}\n",
    "\n",
    "function leftCurryDiv(n) {\n",
    "    return function(d) {\n",
    "        return n/d;\n",
    "    }\n",
    "}\n",
    "\n",
    "function rightCurryDiv(d) {\n",
    "    return function(n){\n",
    "        return n/d;\n",
    "    }\n",
    "}\n",
    "\n",
    "let divide10By = leftCurryDiv(10);\n",
    "let divideBy10 = rightCurryDiv(10);"
   ]
  },
  {
   "cell_type": "markdown",
   "metadata": {},
   "source": [
    "### 手动柯里化->自动柯里化"
   ]
  },
  {
   "cell_type": "code",
   "execution_count": null,
   "metadata": {},
   "outputs": [],
   "source": [
    "function curry(fun) {\n",
    "    return function(arg) {\n",
    "        return fun(arg);\n",
    "    }\n",
    "}\n",
    "// 感觉没什么用处。。\n",
    "\n",
    "[11,11,11,11].map(parseInt)  //[ 11, NaN, 3, 4]\n",
    "[11,11,11,11].map(curry(parseInt))  //[ 11, 11, 11, 11]\n",
    "\n",
    "function curry2(fun) {\n",
    "    return function(secondArg) {\n",
    "        return function(firstArg) {\n",
    "            return fun(firstArg, secondArg);\n",
    "        }\n",
    "    }\n",
    "}\n",
    "\n",
    "let divBy10 = curry2(div)(10);"
   ]
  },
  {
   "cell_type": "markdown",
   "metadata": {},
   "source": [
    "### curry2, curry3, curryAll\n",
    "部分应用，不是一个参数一个参数的用，而是一个两个或多个，类似bind"
   ]
  },
  {
   "cell_type": "code",
   "execution_count": null,
   "metadata": {},
   "outputs": [],
   "source": [
    "function partial(fun, ...args) {\n",
    "    return function (...oargs) {\n",
    "        var allArgs = [...args, ...oargs];\n",
    "        return fun.apply(fun, allArgs);\n",
    "    }\n",
    "}"
   ]
  },
  {
   "cell_type": "markdown",
   "metadata": {},
   "source": [
    "### 前置条件、后置条件\n",
    "\n",
    "给出函数能处理的数据，那么就能确保符合特定条件的结果。"
   ]
  },
  {
   "cell_type": "code",
   "execution_count": null,
   "metadata": {},
   "outputs": [],
   "source": []
  },
  {
   "cell_type": "code",
   "execution_count": null,
   "metadata": {},
   "outputs": [],
   "source": []
  },
  {
   "cell_type": "markdown",
   "metadata": {},
   "source": [
    "## 纯度、不变性、改变政策\n",
    "纯pure函数\n",
    "* 函数结果只能从它的参数值来计算\n",
    "* 不能依赖于被外部操作改变的数据\n",
    "* 不能改变外部状态\n",
    "\n",
    "提纯"
   ]
  },
  {
   "cell_type": "code",
   "execution_count": null,
   "metadata": {},
   "outputs": [],
   "source": []
  },
  {
   "cell_type": "code",
   "execution_count": null,
   "metadata": {},
   "outputs": [],
   "source": []
  }
 ],
 "metadata": {
  "kernelspec": {
   "display_name": "Javascript (Node.js)",
   "language": "javascript",
   "name": "javascript"
  },
  "language_info": {
   "file_extension": ".js",
   "mimetype": "application/javascript",
   "name": "javascript",
   "version": "8.11.1"
  }
 },
 "nbformat": 4,
 "nbformat_minor": 2
}
