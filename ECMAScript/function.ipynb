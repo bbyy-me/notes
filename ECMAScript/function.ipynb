{
 "cells": [
  {
   "cell_type": "markdown",
   "metadata": {},
   "source": [
    "# function\n",
    "\n",
    "函数声明\n",
    "函数表达式\n",
    "\n",
    "函数调用方式：\n",
    "* 作为函数\n",
    "* 作为方法\n",
    "* 作为构造函数\n",
    "* call, apply\n",
    "\n",
    "关键字this:\n",
    "对应上面四种调用方法，this有4种指向：\n",
    "* 关键字this没有作用域的限制，嵌套的函数不会从调用它的函数中继承this。如果嵌套函数作为方法调用，其this的值指向调用它的对象。如果嵌套函数作为函数调用，其this值不是全局对象（非严格模式下）就是undefined（严格模式下）\n",
    "* 作为方法指向他的主体\n",
    "* 构造函数中 this指向新的实例\n",
    "* call,apply指向第一个参数\n",
    "\n",
    "\n",
    "形参、实参\n",
    "\n",
    "默认参数\n",
    "实参对象arguments"
   ]
  },
  {
   "cell_type": "code",
   "execution_count": 1,
   "metadata": {},
   "outputs": [
    {
     "name": "stdout",
     "output_type": "stream",
     "text": [
      "{ b: 2 }\n",
      "{ b: 2 }\n",
      "{ c: 3 }\n",
      "{ c: 3 }\n"
     ]
    }
   ],
   "source": [
    "function fn(x) {\n",
    "    arguments[0] = {b:2};\n",
    "    console.log(arguments[0]);\n",
    "    console.log(x);\n",
    "    x = {c: 3};\n",
    "    console.log(arguments[0]);\n",
    "    console.log(x);\n",
    "}\n",
    "let o = {a: 1};\n",
    "fn(o);"
   ]
  },
  {
   "cell_type": "code",
   "execution_count": 2,
   "metadata": {},
   "outputs": [
    {
     "name": "stdout",
     "output_type": "stream",
     "text": [
      "{ b: 2 }\n",
      "{ a: 1 }\n",
      "{ b: 2 }\n",
      "{ c: 3 }\n"
     ]
    }
   ],
   "source": [
    "'use strict';\n",
    "function fn(x) {\n",
    "    arguments[0] = {b:2};\n",
    "    console.log(arguments[0]);\n",
    "    console.log(x);\n",
    "    x = {c: 3};\n",
    "    console.log(arguments[0]);\n",
    "    console.log(x);\n",
    "}\n",
    "let o2 = {a: 1};\n",
    "fn(o2);"
   ]
  },
  {
   "cell_type": "markdown",
   "metadata": {},
   "source": [
    "非严格模式时，call,apply的第一个参数如果为undefined或null，将会被全局对象所替代，"
   ]
  },
  {
   "cell_type": "code",
   "execution_count": 3,
   "metadata": {},
   "outputs": [
    {
     "name": "stdout",
     "output_type": "stream",
     "text": [
      "true\n"
     ]
    }
   ],
   "source": [
    "function fn () {console.log(this === global)}\n",
    "fn.call(undefined);"
   ]
  },
  {
   "cell_type": "code",
   "execution_count": 4,
   "metadata": {},
   "outputs": [
    {
     "name": "stdout",
     "output_type": "stream",
     "text": [
      "false\n"
     ]
    }
   ],
   "source": [
    "'use strict';\n",
    "function fn () {console.log(this === global)}\n",
    "fn.call(undefined);"
   ]
  },
  {
   "cell_type": "code",
   "execution_count": 5,
   "metadata": {},
   "outputs": [
    {
     "name": "stdout",
     "output_type": "stream",
     "text": [
      "true\n"
     ]
    }
   ],
   "source": [
    "function fn () {console.log(this === global)}\n",
    "'use strict';\n",
    "fn.call(undefined);"
   ]
  },
  {
   "cell_type": "markdown",
   "metadata": {},
   "source": [
    "## bind\n",
    "基础应用，绑定上下文对象，很容易实现：\n",
    "fn.bind = function(o) {\n",
    "  return function() {\n",
    "    return fn.apply(o, arguments);\n",
    "  }\n",
    "};\n",
    "\n",
    "附带其他应用：除了第一个 实参以外，传入bind的实参，也会绑定到this，克里化currying：\n",
    "其他特殊情况：\n",
    "* bind返回的函数length是动态变化的\n",
    "* bind返回的函数没有prototype\n",
    "* 绑定函数是一个exotic function object（怪异函数对象，ECMAScript 2015中的术语），它包装了原函数对象。"
   ]
  },
  {
   "cell_type": "code",
   "execution_count": 6,
   "metadata": {},
   "outputs": [
    {
     "name": "stdout",
     "output_type": "stream",
     "text": [
      "3\n"
     ]
    }
   ],
   "source": [
    "//用法\n",
    "let sum = function(x, y) {return x + y;}\n",
    "let succ = sum.bind(null, 1);\n",
    "console.log(succ(2));\n",
    "\n",
    "\n",
    "function f(y, z) {return this.x + y + z;}\n",
    "let g = f.bind({x: 1}, 2);\n",
    "console.log(g(3));"
   ]
  },
  {
   "cell_type": "code",
   "execution_count": null,
   "metadata": {},
   "outputs": [],
   "source": [
    "// 如何实现\n",
    "Function.prototype.bind2 = function(o) {\n",
    "    const self = this;\n",
    "    const args = Array.prototype.slice.call(arguments, 1);\n",
    "    this.length - arguments.length;\n",
    "    return function () {\n",
    "        Array.prototype.push.apply(args, arguments);\n",
    "        return self.apply(o, args);\n",
    "    }\n",
    "}\n"
   ]
  },
  {
   "cell_type": "code",
   "execution_count": null,
   "metadata": {},
   "outputs": [],
   "source": []
  },
  {
   "cell_type": "markdown",
   "metadata": {},
   "source": [
    "## 参数默认值\n",
    "\n",
    "## 属性\n",
    "### length\n",
    "返回没有默认值的参数的个数，尾参数不计算\n",
    "```js\n",
    "(function (a, b, c) {}).length  // 3\n",
    "(function (a, b, c=1) {}).length // 2\n",
    "(function (a=0, b, c) {}).length  // 0\n",
    "\n",
    "```\n",
    "### name\n",
    "```js\n",
    "var fn = function () {}\n",
    "//fn.name在es5中返回空字符串、在es6中返回’fn‘，所以为了统一，一般写成\n",
    "var fn2 = function fn2() {};\n",
    "```\n",
    "其他值 ‘anonymous’和‘bound fname’或‘bound ’\n",
    "\n",
    "## 构造函数 new Function\n",
    "* 接收不限个数的参数、最后一个是是函数体，前面的都是函数参数\n",
    "* 没有函数名、所以创建出来的是匿名函数。\n",
    "* 能够实现动态创建、但性能有损失\n",
    "\n",
    "## rest参数\n",
    "\n",
    "\n",
    "\n",
    "## 箭头函数\n",
    "\n",
    "* 函数体内的this对象，就是定义时所在的对象，而不是使用时所在的对象。\n",
    "* 没有prototype\n",
    "* 不可以当作构造函数，也就是说，不可以使用new命令，否则会抛出一个错误。\n",
    "* 不可以使用arguments对象，该对象在函数体内不存在。如果要用，可以用 rest 参数代替。\n",
    "* 不可以使用yield命令，因此箭头函数不能用作 Generator 函数。"
   ]
  },
  {
   "cell_type": "code",
   "execution_count": null,
   "metadata": {},
   "outputs": [],
   "source": []
  },
  {
   "cell_type": "markdown",
   "metadata": {},
   "source": []
  }
 ],
 "metadata": {
  "kernelspec": {
   "display_name": "Javascript (Node.js)",
   "language": "javascript",
   "name": "javascript"
  },
  "language_info": {
   "file_extension": ".js",
   "mimetype": "application/javascript",
   "name": "javascript",
   "version": "8.11.1"
  }
 },
 "nbformat": 4,
 "nbformat_minor": 2
}
