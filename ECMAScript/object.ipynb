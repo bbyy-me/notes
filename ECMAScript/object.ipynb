{
 "cells": [
  {
   "cell_type": "markdown",
   "metadata": {},
   "source": [
    "# 对象\n",
    "由键值对组成，一个键值对可以成为一个属性。健是字符串，值可以是任意的值或者getter orand setter函数。\n",
    "\n",
    "每个对象还拥有三个相关的对象特性\n",
    "* 对象的原型\n",
    "* 对象的类\n",
    "* 对象的扩展标记\n",
    "\n",
    "对象分为三类：内置对象、宿主对象、自定义对象\n",
    "\n",
    "创建对象\n",
    "* 字面量\n",
    "* 关键字new\n",
    "* 函数Object.create\n",
    "  * 接受两个参数\n",
    "  * 返回一个对象、对象的原型是第一个参数\n",
    "  * 第一个是原型，一个对象或null\n",
    "  * 第二个\n",
    "\n"
   ]
  },
  {
   "cell_type": "code",
   "execution_count": 2,
   "metadata": {},
   "outputs": [
    {
     "name": "stdout",
     "output_type": "stream",
     "text": [
      "1\n",
      "5\n",
      "5\n",
      "5\n",
      "undefined\n"
     ]
    }
   ],
   "source": [
    "const obj = {\n",
    "    a: 1,\n",
    "    get b () {\n",
    "        return this.a;\n",
    "    },\n",
    "    set b (value) {\n",
    "        this.a = value;\n",
    "    },\n",
    "    get c () {\n",
    "        return this.b;\n",
    "    },\n",
    "    set d (value) {\n",
    "        this.b = value;\n",
    "    }\n",
    "}\n",
    "console.log(obj.b);\n",
    "obj.b = 5;\n",
    "console.log(obj.a);\n",
    "\n",
    "console.log(obj.c);\n",
    "obj.c = 10;\n",
    "console.log(obj.c);\n",
    "\n",
    "console.log(obj.d);"
   ]
  },
  {
   "cell_type": "markdown",
   "metadata": {},
   "source": [
    "对象属性的特性：\n",
    "* 值value\n",
    "* 可写writable\n",
    "* 可枚举enumerable\n",
    "* 可配置configurable\n",
    "\n",
    "存取器属性不具有value和writable，可写性是通过setter方法控制的。\n",
    "\n",
    "Property Descriptor\n",
    "\n",
    "规则：\n",
    "* 如果对象是不可扩展的，则可以编辑已有的自有属性，但不能给它添加新属性。\n",
    "* 如果属性是不可配置的，则不能修改它的可配置性和可枚举性。\n",
    "* 如果存取器属性是不可配置的，则不能修改其getter和setter方法，也不能将它转换为数据属性。\n",
    "* 如果数据属性是不可配置的，则不能将它转换为存取器属性。\n",
    "* 如果数据属性是不可配置的，则不能将它的可写性从false修改为true，但可以从true修改为false。\n",
    "* 如果数据属性是不可配置且不可写的，则不能修改它的值。然而可配置但不可写属性的值是可以修改的（实际上是先将它标记为可写的，然后修改它的值，最后转换为不可写的）。"
   ]
  },
  {
   "cell_type": "code",
   "execution_count": 5,
   "metadata": {},
   "outputs": [
    {
     "data": {
      "text/plain": [
       "{ value: 1, writable: true, enumerable: true, configurable: true }"
      ]
     },
     "execution_count": 5,
     "metadata": {},
     "output_type": "execute_result"
    }
   ],
   "source": [
    "Object.getOwnPropertyDescriptor({x: 1}, 'x')"
   ]
  },
  {
   "cell_type": "code",
   "execution_count": 6,
   "metadata": {},
   "outputs": [
    {
     "data": {
      "text/plain": [
       "{ get: [Function: get c],\n",
       "  set: undefined,\n",
       "  enumerable: true,\n",
       "  configurable: true }"
      ]
     },
     "execution_count": 6,
     "metadata": {},
     "output_type": "execute_result"
    }
   ],
   "source": [
    "Object.getOwnPropertyDescriptor(obj, 'c');"
   ]
  },
  {
   "cell_type": "code",
   "execution_count": 12,
   "metadata": {},
   "outputs": [
    {
     "name": "stdout",
     "output_type": "stream",
     "text": [
      "undefined\n"
     ]
    }
   ],
   "source": [
    "console.log(Object.getOwnPropertyDescriptor(obj, 'toString'));"
   ]
  },
  {
   "cell_type": "code",
   "execution_count": 13,
   "metadata": {},
   "outputs": [
    {
     "name": "stdout",
     "output_type": "stream",
     "text": [
      "20\n",
      "20\n"
     ]
    }
   ],
   "source": [
    "Object.defineProperty(obj, 'e', { writeable: false, value: 20});\n",
    "console.log(obj.e);\n",
    "obj.e = 10; // 严格模式会报错\n",
    "console.log(obj.e);"
   ]
  },
  {
   "cell_type": "code",
   "execution_count": 15,
   "metadata": {},
   "outputs": [
    {
     "name": "stdout",
     "output_type": "stream",
     "text": [
      "{ value: 20,\n",
      "  writable: false,\n",
      "  enumerable: false,\n",
      "  configurable: false }\n"
     ]
    },
    {
     "ename": "TypeError",
     "evalue": "Cannot redefine property: f",
     "output_type": "error",
     "traceback": [
      "evalmachine.<anonymous>:4",
      "Object.defineProperty(obj, 'f', { configurable: true});",
      "       ^",
      "",
      "TypeError: Cannot redefine property: f",
      "    at Function.defineProperty (<anonymous>)",
      "    at evalmachine.<anonymous>:4:8",
      "    at ContextifyScript.Script.runInThisContext (vm.js:50:33)",
      "    at Object.runInThisContext (vm.js:139:38)",
      "    at run ([eval]:1002:15)",
      "    at onRunRequest ([eval]:829:18)",
      "    at onMessage ([eval]:789:13)",
      "    at emitTwo (events.js:126:13)",
      "    at process.emit (events.js:214:7)",
      "    at emit (internal/child_process.js:772:12)"
     ]
    }
   ],
   "source": [
    "Object.defineProperty(obj, 'f', { configurable: false, value: 20 });\n",
    "console.log(Object.getOwnPropertyDescriptor(obj, 'f'));\n",
    "obj.f = 5;\n",
    "console.log(obj.f);\n",
    "\n",
    "Object.defineProperty(obj, 'f', { configurable: true});\n",
    "console.log(Object.getOwnPropertyDescriptor(obj, 'f')); // failure\n"
   ]
  },
  {
   "cell_type": "code",
   "execution_count": 16,
   "metadata": {},
   "outputs": [
    {
     "data": {
      "text/plain": [
       "{ a: 5, b: [Getter/Setter], c: [Getter], d: [Setter] }"
      ]
     },
     "execution_count": 16,
     "metadata": {},
     "output_type": "execute_result"
    }
   ],
   "source": [
    "Object.defineProperties(obj, {\n",
    "    h: {value: 4, },\n",
    "    i: {writable: false, value: 1}\n",
    "})"
   ]
  },
  {
   "cell_type": "code",
   "execution_count": null,
   "metadata": {},
   "outputs": [],
   "source": []
  }
 ],
 "metadata": {
  "kernelspec": {
   "display_name": "Javascript (Node.js)",
   "language": "javascript",
   "name": "javascript"
  },
  "language_info": {
   "file_extension": ".js",
   "mimetype": "application/javascript",
   "name": "javascript",
   "version": "8.11.1"
  }
 },
 "nbformat": 4,
 "nbformat_minor": 2
}
